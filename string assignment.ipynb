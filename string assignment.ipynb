{
 "cells": [
  {
   "cell_type": "code",
   "execution_count": 1,
   "id": "6058e811-eba1-4a9e-a79b-b05c5cb0349b",
   "metadata": {},
   "outputs": [
    {
     "name": "stdout",
     "output_type": "stream",
     "text": [
      "hello world\n"
     ]
    }
   ],
   "source": [
    "#1.concatenate two strings in Python\n",
    "string1 = \"hello\"\n",
    "string2 = \"world\"\n",
    "print(string1 +\" \"+ string2)"
   ]
  },
  {
   "cell_type": "code",
   "execution_count": null,
   "id": "7220b71c-320d-4c8a-9222-b7c6d865562c",
   "metadata": {},
   "outputs": [],
   "source": []
  },
  {
   "cell_type": "code",
   "execution_count": 2,
   "id": "3dab3af3-a17d-41c2-88aa-7bb666b01e1e",
   "metadata": {},
   "outputs": [
    {
     "name": "stdout",
     "output_type": "stream",
     "text": [
      "hello world\n"
     ]
    }
   ],
   "source": [
    "#2. + operator and the join() method for concatenating strings\n",
    "string1 = \"hello\"\n",
    "string2 = \"world\"\n",
    "print(string1 +\" \"+ string2)"
   ]
  },
  {
   "cell_type": "code",
   "execution_count": 3,
   "id": "a1997f29-679f-427d-b27d-24debec14dbb",
   "metadata": {},
   "outputs": [
    {
     "name": "stdout",
     "output_type": "stream",
     "text": [
      "hello world\n"
     ]
    }
   ],
   "source": [
    "string = [\"hello\", \"world\"]\n",
    "print(\" \".join(string))"
   ]
  },
  {
   "cell_type": "code",
   "execution_count": null,
   "id": "da786558-a10a-425c-aa83-16fa16d8e672",
   "metadata": {},
   "outputs": [],
   "source": []
  },
  {
   "cell_type": "code",
   "execution_count": 4,
   "id": "ee9a84ae-8ccf-4d37-95d0-1cfb846de5ce",
   "metadata": {},
   "outputs": [
    {
     "data": {
      "text/plain": [
       "'p'"
      ]
     },
     "execution_count": 4,
     "metadata": {},
     "output_type": "execute_result"
    }
   ],
   "source": [
    "#3.How do you access individual characters in a string?\n",
    "string = \"python\"\n",
    "string[:1:1]"
   ]
  },
  {
   "cell_type": "code",
   "execution_count": null,
   "id": "e7bbacd8-4aa1-4ac5-ab3f-7462602a6e07",
   "metadata": {},
   "outputs": [],
   "source": []
  },
  {
   "cell_type": "code",
   "execution_count": 5,
   "id": "54f73429-ce6c-4292-96d8-6f266f6afd99",
   "metadata": {},
   "outputs": [
    {
     "data": {
      "text/plain": [
       "4"
      ]
     },
     "execution_count": 5,
     "metadata": {},
     "output_type": "execute_result"
    }
   ],
   "source": [
    "#4.What method is used to find the length of a string in Python?\n",
    "name = \"AYAN\"\n",
    "len(name)"
   ]
  },
  {
   "cell_type": "code",
   "execution_count": null,
   "id": "292e8e86-336e-4fc2-9910-1c63bad53021",
   "metadata": {},
   "outputs": [],
   "source": []
  },
  {
   "cell_type": "code",
   "execution_count": 6,
   "id": "1b5d5fcf-f74a-4e35-9cae-16794c917e86",
   "metadata": {},
   "outputs": [
    {
     "name": "stdout",
     "output_type": "stream",
     "text": [
      "HELLO WORLD\n"
     ]
    }
   ],
   "source": [
    "#5.How can you convert a string to uppercase in Python?\n",
    "string = \"hello world\"\n",
    "print(string.upper())"
   ]
  },
  {
   "cell_type": "code",
   "execution_count": null,
   "id": "f2b5543b-8fc6-44b9-9e9a-5ff589c90c87",
   "metadata": {},
   "outputs": [],
   "source": []
  },
  {
   "cell_type": "code",
   "execution_count": 7,
   "id": "e31505c2-6761-4676-90e9-996f91e86578",
   "metadata": {},
   "outputs": [
    {
     "name": "stdout",
     "output_type": "stream",
     "text": [
      "hello world\n"
     ]
    }
   ],
   "source": [
    "#6.How can you convert a string to lowercase in Python?\n",
    "string = \"HELLO WORLD\"\n",
    "print(string.lower())"
   ]
  },
  {
   "cell_type": "code",
   "execution_count": null,
   "id": "78cff99f-32ad-47b9-8307-19a6595dbd35",
   "metadata": {},
   "outputs": [],
   "source": []
  },
  {
   "cell_type": "code",
   "execution_count": 8,
   "id": "fcc58d8e-6cf3-4ddf-9d80-137cd18038d0",
   "metadata": {},
   "outputs": [
    {
     "name": "stdout",
     "output_type": "stream",
     "text": [
      "hello world\n"
     ]
    }
   ],
   "source": [
    "#7.What method is used to replace substrings within a string?\n",
    "string = \"hey world\"\n",
    "print(string.replace(\"hey\",\"hello\"))"
   ]
  },
  {
   "cell_type": "code",
   "execution_count": null,
   "id": "8855840f-cb08-442d-aac8-11e862ed2392",
   "metadata": {},
   "outputs": [],
   "source": []
  },
  {
   "cell_type": "code",
   "execution_count": 9,
   "id": "0363a7d8-dacf-4c5c-a096-94ab7bf593e9",
   "metadata": {},
   "outputs": [
    {
     "name": "stdout",
     "output_type": "stream",
     "text": [
      "['mohd', 'ayan', 'python']\n"
     ]
    }
   ],
   "source": [
    "#8.How can you split a string into a list of substrings based on a delimiter?\n",
    "string = \"mohd,ayan,python\"\n",
    "print(string.split(\",\"))"
   ]
  },
  {
   "cell_type": "code",
   "execution_count": null,
   "id": "b220cf97-089e-4063-8bc6-73871265f822",
   "metadata": {},
   "outputs": [],
   "source": []
  },
  {
   "cell_type": "code",
   "execution_count": 10,
   "id": "7a82a8c2-8308-4719-881d-8242af7a3590",
   "metadata": {},
   "outputs": [
    {
     "name": "stdout",
     "output_type": "stream",
     "text": [
      "True\n"
     ]
    }
   ],
   "source": [
    "#9.How do you check if a string starts with a particular substring?\n",
    "string = \"python language\"\n",
    "print(string.startswith(\"p\"))"
   ]
  },
  {
   "cell_type": "code",
   "execution_count": null,
   "id": "3a4ea2c4-1e1b-4529-af00-247a9e785d8d",
   "metadata": {},
   "outputs": [],
   "source": []
  },
  {
   "cell_type": "code",
   "execution_count": 11,
   "id": "4795d6ed-3000-4d22-9040-5f79c7a017c1",
   "metadata": {},
   "outputs": [
    {
     "name": "stdout",
     "output_type": "stream",
     "text": [
      "False\n"
     ]
    }
   ],
   "source": [
    "#10.How do you check if a string ends with a particular substring?\n",
    "string = \"hello world\"\n",
    "print(string.endswith(\"f\"))"
   ]
  },
  {
   "cell_type": "code",
   "execution_count": null,
   "id": "17ce3a70-0eac-40d5-8b3f-89e88fd20d1d",
   "metadata": {},
   "outputs": [],
   "source": []
  },
  {
   "cell_type": "code",
   "execution_count": 12,
   "id": "54c6e658-0095-48ee-b810-87378ecb4f8f",
   "metadata": {},
   "outputs": [
    {
     "name": "stdout",
     "output_type": "stream",
     "text": [
      "          hello world        \n"
     ]
    }
   ],
   "source": [
    "#11.How can you remove leading and trailing whitespace from a string?\n",
    "string = \"          hello world        \"\n",
    "print(string.strip(\"\"))"
   ]
  },
  {
   "cell_type": "code",
   "execution_count": null,
   "id": "07ab4fd1-f227-48f1-8ac4-4ea94ebe6dbb",
   "metadata": {},
   "outputs": [],
   "source": []
  },
  {
   "cell_type": "code",
   "execution_count": 13,
   "id": "a653934b-7ecf-4fbf-8a39-0132087079ff",
   "metadata": {},
   "outputs": [
    {
     "name": "stdout",
     "output_type": "stream",
     "text": [
      "14\n"
     ]
    }
   ],
   "source": [
    "#12.What method is used to find the index of the first occurrence of a substring within a string?\n",
    "string = \"i am learning python\"\n",
    "print(string.find(\"p\"))"
   ]
  },
  {
   "cell_type": "code",
   "execution_count": null,
   "id": "c6388a0b-9971-41c7-aacb-135a0a47d0b3",
   "metadata": {},
   "outputs": [],
   "source": []
  },
  {
   "cell_type": "code",
   "execution_count": 14,
   "id": "28326d26-e6e5-420e-821c-294b86c2cd67",
   "metadata": {},
   "outputs": [
    {
     "name": "stdout",
     "output_type": "stream",
     "text": [
      "5\n"
     ]
    }
   ],
   "source": [
    "#13.How can you count the number of occurrences of a substring within a string?\n",
    "string = \"hello world to the hello world\"\n",
    "print(string.count(\"o\"))"
   ]
  },
  {
   "cell_type": "code",
   "execution_count": null,
   "id": "2178b472-0421-4860-9342-c0e27cfccdce",
   "metadata": {},
   "outputs": [],
   "source": []
  },
  {
   "cell_type": "code",
   "execution_count": 15,
   "id": "48096af4-a724-414a-b420-3f71f8d348a3",
   "metadata": {},
   "outputs": [
    {
     "name": "stdout",
     "output_type": "stream",
     "text": [
      "True\n"
     ]
    }
   ],
   "source": [
    "#14.How do you check if a string contains only alphabetic characters?\n",
    "string = \"learning\" \"python\"\n",
    "print(string.isalpha())"
   ]
  },
  {
   "cell_type": "code",
   "execution_count": 16,
   "id": "3d4c9107-5b52-4096-b8d2-bdd3362d0305",
   "metadata": {},
   "outputs": [
    {
     "name": "stdout",
     "output_type": "stream",
     "text": [
      "False\n"
     ]
    }
   ],
   "source": [
    "string = \"learning python\"\n",
    "print(string.isalpha())"
   ]
  },
  {
   "cell_type": "code",
   "execution_count": null,
   "id": "5effa591-f6fb-41ab-bee8-b794152c58e4",
   "metadata": {},
   "outputs": [],
   "source": []
  },
  {
   "cell_type": "code",
   "execution_count": 17,
   "id": "08472e70-a1b6-4307-890d-6a7d454d26a3",
   "metadata": {},
   "outputs": [
    {
     "name": "stdout",
     "output_type": "stream",
     "text": [
      "False\n"
     ]
    }
   ],
   "source": [
    "#15.How do you check if a string contains only numeric characters?\n",
    "string = \"2503 2004\"\n",
    "print(string.isdigit())"
   ]
  },
  {
   "cell_type": "code",
   "execution_count": 18,
   "id": "93fb14c5-028d-4b15-a3a1-16d5be9b98a6",
   "metadata": {},
   "outputs": [
    {
     "name": "stdout",
     "output_type": "stream",
     "text": [
      "True\n"
     ]
    }
   ],
   "source": [
    "string = \"25032004\"\n",
    "print(string.isdigit())"
   ]
  },
  {
   "cell_type": "code",
   "execution_count": null,
   "id": "9b16c346-624a-42f1-8bdb-86b9f992daa6",
   "metadata": {},
   "outputs": [],
   "source": []
  },
  {
   "cell_type": "code",
   "execution_count": 72,
   "id": "4fab3765-85b8-45ec-8331-a52810f26ffc",
   "metadata": {},
   "outputs": [
    {
     "name": "stdout",
     "output_type": "stream",
     "text": [
      "yes string is a palindrome\n"
     ]
    }
   ],
   "source": [
    "#16. How can you check if a string is a palindrome?\n",
    "string = \"naman\"\n",
    "reversed_string = \"\"\n",
    "for char in string:\n",
    "    reversed_string = char + reversed_string\n",
    "\n",
    "\n",
    "if string == reversed_string:\n",
    "    print(\"yes string is a palindrome\")\n",
    "else:\n",
    "    print(\"no\")"
   ]
  },
  {
   "cell_type": "code",
   "execution_count": null,
   "id": "0eebce46-aa45-475c-aeee-8bd372127364",
   "metadata": {},
   "outputs": [],
   "source": []
  },
  {
   "cell_type": "code",
   "execution_count": 20,
   "id": "042f0a54-9e96-4a14-ab01-46da6ef0ae70",
   "metadata": {},
   "outputs": [
    {
     "data": {
      "text/plain": [
       "'nohtyp'"
      ]
     },
     "execution_count": 20,
     "metadata": {},
     "output_type": "execute_result"
    }
   ],
   "source": [
    "#17. How can you reverse a string in Python?\n",
    "string = \"python\"\n",
    "string[-1::-1]"
   ]
  },
  {
   "cell_type": "code",
   "execution_count": null,
   "id": "c5d9790e-090c-4d2c-8750-875e510e4a79",
   "metadata": {},
   "outputs": [],
   "source": []
  },
  {
   "cell_type": "code",
   "execution_count": 21,
   "id": "ab80fb12-e7a0-47b3-8cdd-0b35f8adecf5",
   "metadata": {},
   "outputs": [
    {
     "name": "stdout",
     "output_type": "stream",
     "text": [
      "my name is Mohd Ayan my age is 20 my gender is male\n"
     ]
    }
   ],
   "source": [
    "#18. How do you format a string with placeholders for variable values?\\\n",
    "name = \"Mohd Ayan\"\n",
    "age = \"20\"\n",
    "gender = \"male\"\n",
    "format_string = f\"my name is {name} my age is {age} my gender is {gender}\"\n",
    "print(format_string)"
   ]
  },
  {
   "cell_type": "code",
   "execution_count": 22,
   "id": "78afe47b-25bf-4dbc-b290-6f173533caaa",
   "metadata": {},
   "outputs": [
    {
     "name": "stdout",
     "output_type": "stream",
     "text": [
      "my name is Mohd Ayan my age is 20 my gender is male\n"
     ]
    }
   ],
   "source": [
    "name = \"Mohd Ayan\"\n",
    "age = \"20\"\n",
    "gender = \"male\"\n",
    "format_string = \"my name is {} my age is {} my gender is {}\".format(name,age,gender)\n",
    "print(format_string)"
   ]
  },
  {
   "cell_type": "code",
   "execution_count": null,
   "id": "5fad81a2-526e-4582-b471-a5a823c36011",
   "metadata": {},
   "outputs": [],
   "source": []
  },
  {
   "cell_type": "code",
   "execution_count": 23,
   "id": "a49707d5-43c4-4cc0-bb01-1209cad94757",
   "metadata": {},
   "outputs": [
    {
     "data": {
      "text/plain": [
       "'learning'"
      ]
     },
     "execution_count": 23,
     "metadata": {},
     "output_type": "execute_result"
    }
   ],
   "source": [
    "#19. How do you access a substring of a string using slicing? \n",
    "string = \"learning python language easily\"\n",
    "string[0:8:1]\n",
    "\n"
   ]
  },
  {
   "cell_type": "code",
   "execution_count": null,
   "id": "880c75d5-9c84-4413-bf76-58d853c68079",
   "metadata": {},
   "outputs": [],
   "source": []
  },
  {
   "cell_type": "code",
   "execution_count": 24,
   "id": "14f2a82e-9887-4c31-bc7e-94ffe3220e32",
   "metadata": {},
   "outputs": [
    {
     "name": "stdout",
     "output_type": "stream",
     "text": [
      "my  is mohd ayan\n"
     ]
    }
   ],
   "source": [
    "#20. How can you remove specific characters from a string in Python?\n",
    "string = \"my name is mohd ayan\"\n",
    "print(string.replace(\"name\",\"\"))"
   ]
  },
  {
   "cell_type": "code",
   "execution_count": 75,
   "id": "0eeb317c-1670-4da0-851f-dffaea14d11b",
   "metadata": {},
   "outputs": [
    {
     "data": {
      "text/plain": [
       "['python', 'learning']"
      ]
     },
     "execution_count": 75,
     "metadata": {},
     "output_type": "execute_result"
    }
   ],
   "source": [
    "string = [\"python\",\"learning\",\"ducat\"]\n",
    "string[0:2:1]"
   ]
  },
  {
   "cell_type": "code",
   "execution_count": null,
   "id": "34ff9a2d-2525-4223-977e-314f71afab9c",
   "metadata": {},
   "outputs": [],
   "source": []
  }
 ],
 "metadata": {
  "kernelspec": {
   "display_name": "Python 3 (ipykernel)",
   "language": "python",
   "name": "python3"
  },
  "language_info": {
   "codemirror_mode": {
    "name": "ipython",
    "version": 3
   },
   "file_extension": ".py",
   "mimetype": "text/x-python",
   "name": "python",
   "nbconvert_exporter": "python",
   "pygments_lexer": "ipython3",
   "version": "3.12.4"
  }
 },
 "nbformat": 4,
 "nbformat_minor": 5
}
