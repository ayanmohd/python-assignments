{
 "cells": [
  {
   "cell_type": "code",
   "execution_count": 1,
   "id": "1df1bdc4-308b-41ff-80e7-ea52e5091d9e",
   "metadata": {},
   "outputs": [
    {
     "name": "stdin",
     "output_type": "stream",
     "text": [
      "number of  unit: 350\n"
     ]
    },
    {
     "name": "stdout",
     "output_type": "stream",
     "text": [
      "Total Bill: 2000\n"
     ]
    }
   ],
   "source": [
    "#Q1.Write a program to calculate the electricity bill\n",
    "\n",
    "\n",
    "unit = int(input(\"number of  unit:\"))\n",
    "if unit<=100:\n",
    "    print(\"no charge\")\n",
    "elif unit<=200:\n",
    "    print(\"Total Bill:\",(unit-100)*5)\n",
    "else:\n",
    "    print(\"Total Bill:\",(100*5)+(unit-200)*10)\n",
    "    \n",
    "    \n",
    "\n",
    "\n",
    "\n"
   ]
  },
  {
   "cell_type": "code",
   "execution_count": null,
   "id": "3d3190e3-4583-4796-9aaa-f3c0dadd5c88",
   "metadata": {},
   "outputs": [],
   "source": []
  },
  {
   "cell_type": "code",
   "execution_count": 2,
   "id": "3d8889ff-b932-4d26-8c97-120123258bcc",
   "metadata": {},
   "outputs": [
    {
     "name": "stdin",
     "output_type": "stream",
     "text": [
      "percentage: 75\n"
     ]
    },
    {
     "name": "stdout",
     "output_type": "stream",
     "text": [
      "Grade C\n"
     ]
    }
   ],
   "source": [
    "#Q2.Write a program to accept percentage from the user and display the grade\n",
    "\n",
    "\n",
    "percentage = int(input(\"percentage:\"))\n",
    "if percentage>90:\n",
    "    print(\"Grade A\")\n",
    "elif percentage>80 and percentage<=90:\n",
    "    print(\"Grade B\")\n",
    "elif percentage>=60 and percentage<=80:\n",
    "    print(\"Grade C\")\n",
    "elif percentage<60:\n",
    "    print(\"Grade D\")\n",
    "    "
   ]
  },
  {
   "cell_type": "code",
   "execution_count": null,
   "id": "bd8b7f77-c5f4-4c1d-ad6f-ac17f8d88e86",
   "metadata": {},
   "outputs": [],
   "source": []
  },
  {
   "cell_type": "code",
   "execution_count": 12,
   "id": "55d4e04c-0180-4ce9-a005-5217ea67da7c",
   "metadata": {},
   "outputs": [
    {
     "name": "stdin",
     "output_type": "stream",
     "text": [
      "The age of person 1: 20\n",
      "The age of person 2: 22\n",
      "The age of person 3: 15\n",
      "The age of person 4: 53\n"
     ]
    },
    {
     "name": "stdout",
     "output_type": "stream",
     "text": [
      "person 3 is youngest\n"
     ]
    }
   ],
   "source": [
    "#Q3. Accept the age of 4 people and display the youngest one?\n",
    "\n",
    "age1 = int(input(\"The age of person 1:\"))\n",
    "age2 = int(input(\"The age of person 2:\"))\n",
    "age3 = int(input(\"The age of person 3:\"))\n",
    "age4 = int(input(\"The age of person 4:\"))\n",
    "\n",
    "youngest_age = age1\n",
    "\n",
    "if age1<age2 and age1<age3 and age1<age4:\n",
    "    print(\"person 1 is youngest\")\n",
    "elif age2<age1 and age2<age3 and age2<age4:\n",
    "    print(\"person 2 is youngest\")\n",
    "elif age3<age1 and age3<age2 and age3<age4:\n",
    "    print(\"person 3 is youngest\")\n",
    "else:\n",
    "    print(\"person 4 is youngest\")\n",
    "   \n"
   ]
  },
  {
   "cell_type": "code",
   "execution_count": null,
   "id": "d7f5b229-7b5c-4541-a525-eebb18419b15",
   "metadata": {},
   "outputs": [],
   "source": []
  },
  {
   "cell_type": "code",
   "execution_count": 28,
   "id": "4382a683-98ea-4e3f-939d-5b9223a8a026",
   "metadata": {},
   "outputs": [
    {
     "name": "stdin",
     "output_type": "stream",
     "text": [
      "salary is: 30000\n",
      "years of service is: 8\n"
     ]
    },
    {
     "name": "stdout",
     "output_type": "stream",
     "text": [
      "Net Bonus is: 2400.0\n"
     ]
    }
   ],
   "source": [
    "#Q4. Ask user for their salary and years of service and print the net bonus amount?\n",
    "\n",
    "\n",
    "\n",
    "salary = int(input(\"salary is:\"))\n",
    "years_of_sevice = int(input(\"years of service is:\"))\n",
    "if years_of_sevice>10:\n",
    "    print(\"Net Bonus is:\",(10/100)*salary)\n",
    "elif years_of_sevice>=6 and years_of_sevice<=10:\n",
    "    print(\"Net Bonus is:\",(8/100)*salary)\n",
    "else:\n",
    "    print(\"Net Bonus is:\",(5/100)*salary)\n",
    "    \n"
   ]
  },
  {
   "cell_type": "code",
   "execution_count": null,
   "id": "f69975eb-4936-4013-8375-ef251efdfb76",
   "metadata": {},
   "outputs": [],
   "source": []
  },
  {
   "cell_type": "code",
   "execution_count": 44,
   "id": "831b7875-64b4-4b71-b084-19aaef22b20e",
   "metadata": {},
   "outputs": [
    {
     "name": "stdin",
     "output_type": "stream",
     "text": [
      "number 1: 58\n",
      "number 2: 35\n",
      "number 3: 12\n"
     ]
    },
    {
     "name": "stdout",
     "output_type": "stream",
     "text": [
      "number 2 is the second largest number\n"
     ]
    }
   ],
   "source": [
    "#Q5. Accept three numbers from the user and display the second largest number?\n",
    "\n",
    "number1 = int(input(\"number 1:\"))\n",
    "number2 = int(input(\"number 2:\"))\n",
    "number3 = int(input(\"number 3:\"))\n",
    "\n",
    "if number1>number2 and number1<number3 or number1<number2 and number1>number3:\n",
    "    print(\"number 1 is the second largest number\")\n",
    "elif number2>number1 and number2<number3 or number2<number1 and number2>number3:\n",
    "    print(\"number 2 is the second largest number\")\n",
    "elif number3>number1 and number3<number2 or number3<number1 and number3>number2:\n",
    "     print(\"number 3 is the second largest number\")\n",
    "\n",
    "    \n",
    "   "
   ]
  },
  {
   "cell_type": "code",
   "execution_count": null,
   "id": "e948f520-ad9a-4515-9dc0-4f4b5ab985d5",
   "metadata": {},
   "outputs": [],
   "source": []
  },
  {
   "cell_type": "code",
   "execution_count": 54,
   "id": "f9d6c0cb-0470-47ce-a5d1-b8b0528e49d8",
   "metadata": {},
   "outputs": [
    {
     "name": "stdin",
     "output_type": "stream",
     "text": [
      "marked price is: 10000\n"
     ]
    },
    {
     "name": "stdout",
     "output_type": "stream",
     "text": [
      "8500.0\n"
     ]
    }
   ],
   "source": [
    "#Q6. Accept the marked price from the user and calculate the Net amount as\n",
    "\n",
    "\n",
    "marked_price = int(input(\"marked price is:\"))\n",
    "if marked_price>10000:\n",
    "    print(marked_price-(20/100)*marked_price)\n",
    "elif marked_price>7000 and marked_price<=10000:\n",
    "    print(marked_price-(15/100)*marked_price)\n",
    "elif marked_price<=7000:\n",
    "    print(marked_price-(10/100)*marked_price)\n"
   ]
  },
  {
   "cell_type": "code",
   "execution_count": null,
   "id": "d109bb40-c3cf-4aad-a0f2-957b65222936",
   "metadata": {},
   "outputs": [],
   "source": []
  },
  {
   "cell_type": "code",
   "execution_count": 68,
   "id": "a5f7c905-e58c-4ad8-8b4f-089f0876661a",
   "metadata": {},
   "outputs": [
    {
     "name": "stdin",
     "output_type": "stream",
     "text": [
      "marks of english: 85\n",
      "marks of maths: 55\n",
      "marks of science: 65\n",
      "marks of social: 45\n"
     ]
    },
    {
     "name": "stdout",
     "output_type": "stream",
     "text": [
      "commerce stream\n"
     ]
    }
   ],
   "source": [
    "#Q7. Accept the marks of English, Math and Science,Social Studies Subject and display the stream allotted according to following:\n",
    "\n",
    "\n",
    "\n",
    "English_marks = int(input(\"marks of english:\"))\n",
    "Maths_marks = int(input(\"marks of maths:\"))\n",
    "Science_marks = int(input(\"marks of science:\"))\n",
    "Social_marks = int(input(\"marks of social:\"))\n",
    "\n",
    "if English_marks>80 and Maths_marks>80 and Science_marks>80 and Social_marks>80:\n",
    "    print(\"science stream\")\n",
    "elif English_marks>80 and Maths_marks>50 and Science_marks>50:\n",
    "    print(\"commerce stream\")\n",
    "elif English_marks>80 and Social_marks>80:\n",
    "    print(\"humanities\")\n",
    "else :\n",
    "    print(\"recheck\")\n"
   ]
  },
  {
   "cell_type": "code",
   "execution_count": null,
   "id": "a150a480-0e88-4509-9a15-ff20f8f1b54e",
   "metadata": {},
   "outputs": [],
   "source": []
  },
  {
   "cell_type": "code",
   "execution_count": 100,
   "id": "63a8db7e-ca47-4ee1-becf-16079c57762d",
   "metadata": {},
   "outputs": [
    {
     "name": "stdin",
     "output_type": "stream",
     "text": [
      "number is: 28555\n"
     ]
    },
    {
     "name": "stdout",
     "output_type": "stream",
     "text": [
      "hello\n"
     ]
    }
   ],
   "source": [
    "#Q8. Write a program to display \"Hello\" if a number entered by user is a multiple of five, otherwise print \"Bye\"?\n",
    "\n",
    "number = int(input(\"number is:\"))\n",
    "if number % 5 == 0:\n",
    "    print(\"hello\")\n",
    "else:\n",
    "    print(\"bye\")"
   ]
  },
  {
   "cell_type": "code",
   "execution_count": null,
   "id": "8fca5e97-a02b-44c6-92e6-b87b517d4dc1",
   "metadata": {},
   "outputs": [],
   "source": []
  },
  {
   "cell_type": "code",
   "execution_count": 140,
   "id": "5d11c0ca-40c2-4173-99db-ac4e99ba90d0",
   "metadata": {},
   "outputs": [
    {
     "name": "stdin",
     "output_type": "stream",
     "text": [
      "number is: 64544566\n"
     ]
    },
    {
     "name": "stdout",
     "output_type": "stream",
     "text": [
      "yes\n"
     ]
    }
   ],
   "source": [
    "#Q9. Write a program to check whether the last digit of a number (entered by user) is divisible by 3 or not?\n",
    "\n",
    "number = int(input(\"number is:\"))\n",
    "last_digit = number % 10\n",
    "\n",
    "if last_digit % 3==0:\n",
    "    print(\"yes\")\n",
    "else:\n",
    "    print(\"no\")\n"
   ]
  },
  {
   "cell_type": "code",
   "execution_count": null,
   "id": "d04b3fec-0bfd-4a25-9aa7-b1435d0ee2b3",
   "metadata": {},
   "outputs": [],
   "source": []
  },
  {
   "cell_type": "code",
   "execution_count": 156,
   "id": "ee351522-303a-4b8d-b27e-b496cba70789",
   "metadata": {},
   "outputs": [
    {
     "name": "stdin",
     "output_type": "stream",
     "text": [
      "number is: 5478\n"
     ]
    },
    {
     "name": "stdout",
     "output_type": "stream",
     "text": [
      "not a three digit number\n"
     ]
    }
   ],
   "source": [
    "#Q10. Write a program to check whether a number entered is three-digit number or not?\n",
    "\n",
    "number = int(input(\"number is:\"))\n",
    "if number>=100 and number<=999:\n",
    "    print(\"three digit number\")\n",
    "else:\n",
    "    print(\"not a three digit number\")\n"
   ]
  },
  {
   "cell_type": "code",
   "execution_count": null,
   "id": "78dff266-a2ca-4f3b-97f5-a331fb8929c8",
   "metadata": {},
   "outputs": [],
   "source": []
  }
 ],
 "metadata": {
  "kernelspec": {
   "display_name": "Python 3 (ipykernel)",
   "language": "python",
   "name": "python3"
  },
  "language_info": {
   "codemirror_mode": {
    "name": "ipython",
    "version": 3
   },
   "file_extension": ".py",
   "mimetype": "text/x-python",
   "name": "python",
   "nbconvert_exporter": "python",
   "pygments_lexer": "ipython3",
   "version": "3.12.4"
  }
 },
 "nbformat": 4,
 "nbformat_minor": 5
}
